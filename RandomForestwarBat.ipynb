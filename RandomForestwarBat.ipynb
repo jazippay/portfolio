{
 "cells": [
  {
   "cell_type": "code",
   "execution_count": 10,
   "metadata": {},
   "outputs": [],
   "source": [
    "import pandas as pd\n",
    "import numpy as np\n",
    "import matplotlib.pyplot as plt\n",
    "import seaborn as sns\n",
    "%matplotlib inline\n",
    "from sklearn.ensemble import RandomForestClassifier\n",
    "from sklearn.model_selection import train_test_split\n",
    "from sklearn.tree import DecisionTreeClassifier\n",
    "from sklearn.metrics import classification_report, confusion_matrix"
   ]
  },
  {
   "cell_type": "code",
   "execution_count": 3,
   "metadata": {},
   "outputs": [],
   "source": [
    "warBat = pd.read_csv('/Users/anthonyzippay/Desktop/warBat.csv')"
   ]
  },
  {
   "cell_type": "code",
   "execution_count": 4,
   "metadata": {},
   "outputs": [
    {
     "name": "stdout",
     "output_type": "stream",
     "text": [
      "<class 'pandas.core.frame.DataFrame'>\n",
      "RangeIndex: 49719 entries, 0 to 49718\n",
      "Data columns (total 46 columns):\n",
      " #   Column              Non-Null Count  Dtype  \n",
      "---  ------              --------------  -----  \n",
      " 0   Unnamed: 0          49719 non-null  int64  \n",
      " 1   Unnamed: 0.1        49719 non-null  int64  \n",
      " 2   age                 49719 non-null  int64  \n",
      " 3   mlb_ID              49719 non-null  int64  \n",
      " 4   year_ID             49719 non-null  int64  \n",
      " 5   stint_ID            49719 non-null  int64  \n",
      " 6   PA                  49719 non-null  float64\n",
      " 7   G                   49719 non-null  int64  \n",
      " 8   Inn                 49719 non-null  float64\n",
      " 9   runs_bat            49719 non-null  float64\n",
      " 10  runs_br             49719 non-null  float64\n",
      " 11  runs_dp             49719 non-null  float64\n",
      " 12  runs_field          49719 non-null  float64\n",
      " 13  runs_infield        49719 non-null  int64  \n",
      " 14  runs_outfield       49719 non-null  int64  \n",
      " 15  runs_catcher        49719 non-null  int64  \n",
      " 16  runs_good_plays     49719 non-null  float64\n",
      " 17  runs_defense        49719 non-null  float64\n",
      " 18  runs_position       49719 non-null  float64\n",
      " 19  runs_position_p     49719 non-null  float64\n",
      " 20  runs_replacement    49719 non-null  float64\n",
      " 21  runs_above_rep      49719 non-null  float64\n",
      " 22  runs_above_avg      49719 non-null  float64\n",
      " 23  runs_above_avg_off  49719 non-null  float64\n",
      " 24  runs_above_avg_def  49719 non-null  float64\n",
      " 25  WAA                 49719 non-null  float64\n",
      " 26  WAA_off             49719 non-null  float64\n",
      " 27  WAA_def             49719 non-null  float64\n",
      " 28  WAR                 49719 non-null  float64\n",
      " 29  WAR_def             49719 non-null  float64\n",
      " 30  WAR_off             49719 non-null  float64\n",
      " 31  WAR_rep             49719 non-null  float64\n",
      " 32  Salary              49719 non-null  float64\n",
      " 33  teamRpG             49719 non-null  float64\n",
      " 34  oppRpG              49719 non-null  float64\n",
      " 35  oppRpPA_rep         49719 non-null  float64\n",
      " 36  oppRpG_rep          49719 non-null  float64\n",
      " 37  pyth_exponent       49719 non-null  float64\n",
      " 38  pyth_exponent_rep   49719 non-null  float64\n",
      " 39  waa_win_perc        49719 non-null  float64\n",
      " 40  waa_win_perc_off    49719 non-null  float64\n",
      " 41  waa_win_perc_def    49719 non-null  float64\n",
      " 42  waa_win_perc_rep    49719 non-null  float64\n",
      " 43  OPS_plus            49719 non-null  float64\n",
      " 44  TOB_lg              49719 non-null  float64\n",
      " 45  TB_lg               49719 non-null  float64\n",
      "dtypes: float64(36), int64(10)\n",
      "memory usage: 17.4 MB\n"
     ]
    }
   ],
   "source": [
    "warBat.info()"
   ]
  },
  {
   "cell_type": "code",
   "execution_count": 17,
   "metadata": {},
   "outputs": [],
   "source": [
    "x = warBat.drop('age', axis=1)\n",
    "y = warBat['age']"
   ]
  },
  {
   "cell_type": "code",
   "execution_count": 18,
   "metadata": {},
   "outputs": [],
   "source": [
    "x_train, x_test, y_train, y_test = train_test_split(x,y, test_size=0.3, random_state=76)"
   ]
  },
  {
   "cell_type": "code",
   "execution_count": 19,
   "metadata": {},
   "outputs": [
    {
     "data": {
      "text/plain": [
       "RandomForestClassifier(bootstrap=True, ccp_alpha=0.0, class_weight=None,\n",
       "                       criterion='gini', max_depth=None, max_features='auto',\n",
       "                       max_leaf_nodes=None, max_samples=None,\n",
       "                       min_impurity_decrease=0.0, min_impurity_split=None,\n",
       "                       min_samples_leaf=1, min_samples_split=2,\n",
       "                       min_weight_fraction_leaf=0.0, n_estimators=500,\n",
       "                       n_jobs=None, oob_score=False, random_state=76, verbose=0,\n",
       "                       warm_start=False)"
      ]
     },
     "execution_count": 19,
     "metadata": {},
     "output_type": "execute_result"
    }
   ],
   "source": [
    "forest = RandomForestClassifier(n_estimators=500, random_state=76)\n",
    "forest.fit(x_train, y_train)"
   ]
  },
  {
   "cell_type": "code",
   "execution_count": 20,
   "metadata": {},
   "outputs": [
    {
     "name": "stdout",
     "output_type": "stream",
     "text": [
      "[[  0   0   1   0   3   3   3   2   2   0   0   0   0   0   0   0   0   0\n",
      "    0   0   0   0   0   0   0   0   0   0   0]\n",
      " [  0   0   1   4   8  12  12   8   5   0   1   0   0   0   0   0   0   1\n",
      "    0   0   0   0   0   0   0   0   0   0   0]\n",
      " [  0   0   1   8  38  41  55  26   8  10   7   1   1   3   0   0   0   1\n",
      "    0   0   0   0   0   0   0   0   0   0   0]\n",
      " [  0   0   6  18  74 105 105  74  44  22  17   6   5   5   1   0   0   1\n",
      "    0   0   0   0   0   0   0   0   0   0   0]\n",
      " [  0   2   7  29 112 209 199 138  82  35  28  12   9   5   4   2   2   1\n",
      "    0   0   0   0   0   0   0   0   0   0   0]\n",
      " [  0   2   8  24 100 260 316 220 154  64  36  17  17   6   3   2   0   1\n",
      "    1   1   0   0   0   0   0   0   0   0   0]\n",
      " [  0   3   6  28 106 236 326 330 221 109  66  25  27  14   7   2   2   3\n",
      "    0   1   0   0   0   1   0   0   0   1   0]\n",
      " [  0   3  10  37  76 194 311 307 278 142  89  42  25  24  11   8   7   1\n",
      "    2   0   0   0   0   0   0   1   0   0   0]\n",
      " [  0   1   7  15  49 149 239 266 243 180 133  62  45  20  16   9   4   2\n",
      "    2   0   0   1   0   0   0   0   0   0   0]\n",
      " [  0   0   3   3  47  92 168 203 238 166 152 114  74  36  27  15   9   2\n",
      "    5   2   0   1   1   0   0   0   0   0   0]\n",
      " [  0   2   3   6  25  49  96 136 163 175 172 111  94  69  32  16  11   4\n",
      "    4   2   0   0   0   0   1   1   1   0   0]\n",
      " [  0   0   1   0  17  38  68  72 120 141 174  99  92  83  38  21  12   5\n",
      "    1   3   0   2   0   1   0   0   0   0   0]\n",
      " [  0   0   2   2  10  21  55  70  91  99 134 122  89  83  50  29  11   8\n",
      "    4   3   1   0   1   0   0   0   0   0   0]\n",
      " [  0   0   0   4  11  25  35  40  65  76 101  82  93  80  53  33  18   4\n",
      "    3   2   3   1   0   0   0   0   0   0   0]\n",
      " [  0   0   0   4   5  15  22  36  42  58  73  78  74  74  53  36  16   5\n",
      "    7   5   1   1   0   0   0   0   0   0   0]\n",
      " [  0   0   0   0   7  13  21  31  28  41  61  55  57  68  65  26  21   8\n",
      "    3   8   0   1   0   0   0   0   0   0   0]\n",
      " [  0   0   3   1   4  11  14  17  31  28  32  40  35  46  49  36  22  10\n",
      "    3   1   2   0   1   1   0   0   0   0   0]\n",
      " [  0   0   0   0   4   3  16  13  26  29  29  39  26  30  32  18  18   7\n",
      "    6   3   1   0   1   0   0   0   0   0   0]\n",
      " [  0   0   0   0   1   3   6   5  12  16  18  26  24  24  20  11  15  15\n",
      "    4   3   2   0   0   0   0   0   0   0   0]\n",
      " [  0   0   0   0   1   2   9   5   4   8  14  15  18  25  13   8   5   9\n",
      "    5   2   1   1   0   0   0   0   0   0   0]\n",
      " [  0   0   0   1   2   1   1   8   6   7   8   9   8  13   5   4   9   4\n",
      "    0   2   2   1   0   0   0   0   0   0   0]\n",
      " [  0   0   0   0   1   1   1   2   1   5   8   0   6   4   7   5   6   2\n",
      "    2   2   0   1   0   1   0   0   0   0   0]\n",
      " [  0   0   0   0   0   1   1   0   3   2   3   2   6   6   6   6   2   2\n",
      "    0   2   1   0   1   0   0   0   0   0   0]\n",
      " [  0   0   0   0   0   0   2   4   0   0   3   1   3   1   4   2   2   3\n",
      "    0   1   0   1   0   0   0   0   0   0   0]\n",
      " [  0   0   0   0   0   0   0   1   0   1   0   2   4   1   1   2   0   1\n",
      "    0   0   1   0   0   0   0   0   0   0   0]\n",
      " [  0   0   0   0   0   0   0   0   0   0   1   0   1   0   1   4   0   0\n",
      "    0   0   0   0   0   0   0   0   0   0   0]\n",
      " [  0   0   0   0   0   0   0   0   0   1   0   0   0   1   0   0   0   0\n",
      "    0   0   0   0   0   0   0   0   0   0   0]\n",
      " [  0   0   0   0   0   0   0   0   0   0   0   0   0   0   0   1   0   0\n",
      "    0   0   0   0   0   0   0   0   0   1   0]\n",
      " [  0   0   0   0   0   0   0   0   1   0   0   0   1   0   0   0   0   0\n",
      "    0   0   0   0   0   0   0   0   0   0   0]]\n",
      "              precision    recall  f1-score   support\n",
      "\n",
      "          19       0.00      0.00      0.00        14\n",
      "          20       0.00      0.00      0.00        52\n",
      "          21       0.02      0.01      0.01       200\n",
      "          22       0.10      0.04      0.05       483\n",
      "          23       0.16      0.13      0.14       876\n",
      "          24       0.18      0.21      0.19      1232\n",
      "          25       0.16      0.22      0.18      1514\n",
      "          26       0.15      0.20      0.17      1568\n",
      "          27       0.13      0.17      0.15      1443\n",
      "          28       0.12      0.12      0.12      1358\n",
      "          29       0.13      0.15      0.14      1173\n",
      "          30       0.10      0.10      0.10       988\n",
      "          31       0.11      0.10      0.10       885\n",
      "          32       0.11      0.11      0.11       729\n",
      "          33       0.11      0.09      0.10       605\n",
      "          34       0.09      0.05      0.06       514\n",
      "          35       0.11      0.06      0.08       387\n",
      "          36       0.07      0.02      0.03       301\n",
      "          37       0.08      0.02      0.03       205\n",
      "          38       0.05      0.01      0.02       145\n",
      "          39       0.13      0.02      0.04        91\n",
      "          40       0.09      0.02      0.03        55\n",
      "          41       0.20      0.02      0.04        44\n",
      "          42       0.00      0.00      0.00        27\n",
      "          43       0.00      0.00      0.00        14\n",
      "          44       0.00      0.00      0.00         7\n",
      "          45       0.00      0.00      0.00         2\n",
      "          46       0.50      0.50      0.50         2\n",
      "          48       0.00      0.00      0.00         2\n",
      "\n",
      "    accuracy                           0.13     14916\n",
      "   macro avg       0.10      0.08      0.08     14916\n",
      "weighted avg       0.13      0.13      0.13     14916\n",
      "\n"
     ]
    },
    {
     "name": "stderr",
     "output_type": "stream",
     "text": [
      "/opt/anaconda3/lib/python3.7/site-packages/sklearn/metrics/_classification.py:1272: UndefinedMetricWarning: Precision and F-score are ill-defined and being set to 0.0 in labels with no predicted samples. Use `zero_division` parameter to control this behavior.\n",
      "  _warn_prf(average, modifier, msg_start, len(result))\n"
     ]
    }
   ],
   "source": [
    "forestPredictions = forest.predict(x_test)\n",
    "print(confusion_matrix(y_test, forestPredictions))\n",
    "print(classification_report(y_test, forestPredictions))"
   ]
  },
  {
   "cell_type": "markdown",
   "metadata": {},
   "source": [
    "100% accuracy with this model. year_ID was our x. What does that mean?"
   ]
  },
  {
   "cell_type": "markdown",
   "metadata": {},
   "source": [
    "using age as our x, we found that it was only 14% accurate. the random forest wasnt any better. "
   ]
  },
  {
   "cell_type": "markdown",
   "metadata": {},
   "source": [
    "when I try doing this with Salary I get an error. \"ValueError: Unknown label type: 'continuous\". I havent figured out how to deal with it yet."
   ]
  },
  {
   "cell_type": "code",
   "execution_count": null,
   "metadata": {},
   "outputs": [],
   "source": []
  }
 ],
 "metadata": {
  "kernelspec": {
   "display_name": "Python 3",
   "language": "python",
   "name": "python3"
  },
  "language_info": {
   "codemirror_mode": {
    "name": "ipython",
    "version": 3
   },
   "file_extension": ".py",
   "mimetype": "text/x-python",
   "name": "python",
   "nbconvert_exporter": "python",
   "pygments_lexer": "ipython3",
   "version": "3.7.6"
  }
 },
 "nbformat": 4,
 "nbformat_minor": 4
}
